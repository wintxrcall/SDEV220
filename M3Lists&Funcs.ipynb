{
 "cells": [
  {
   "cell_type": "markdown",
   "id": "19c708c7-c786-4c07-92eb-558383cae0ab",
   "metadata": {},
   "source": [
    "Make a list called \"things\" with these 3 strings as elements: \"mozzarella\", \"cinderella\", \"salmonella\"."
   ]
  },
  {
   "cell_type": "code",
   "execution_count": 19,
   "id": "a8310369-e24d-4480-89e9-0363d1b8d52b",
   "metadata": {},
   "outputs": [],
   "source": [
    "things = [\"mozzarella\", \"cinderella\", \"salmonella\"]"
   ]
  },
  {
   "cell_type": "markdown",
   "id": "4a45fa1b-69c0-4601-9a8b-e706e179abb5",
   "metadata": {},
   "source": [
    "Capitalize the element in things that refers to a person and then print the list. Did it change the element in the list?"
   ]
  },
  {
   "cell_type": "code",
   "execution_count": 20,
   "id": "32dca603-1bc1-4a1e-a3b6-7524ebf6958f",
   "metadata": {},
   "outputs": [],
   "source": [
    "for i in range(len(things)):\n",
    "    if \"cinderella\" in things[i]:\n",
    "        things[i] = things[i].capitalize()"
   ]
  },
  {
   "cell_type": "code",
   "execution_count": 21,
   "id": "e07f8d2f-8748-45df-af00-ae0922c9b48a",
   "metadata": {},
   "outputs": [
    {
     "name": "stdout",
     "output_type": "stream",
     "text": [
      "['mozzarella', 'Cinderella', 'salmonella']\n"
     ]
    }
   ],
   "source": [
    "print(things)"
   ]
  },
  {
   "cell_type": "markdown",
   "id": "234c07e8-9867-42bf-bd68-cdd71037d12e",
   "metadata": {},
   "source": [
    "Yes, it changes the elements in the list - capitalizing the first letter of each word that included \"Cinderella\" which refers to a person."
   ]
  },
  {
   "cell_type": "code",
   "execution_count": 22,
   "id": "998dbad9-3559-4455-aa13-2ca0993d31ba",
   "metadata": {},
   "outputs": [],
   "source": [
    "for i in range(len(things)):\n",
    "    if \"mozzarella\" in things[i]:\n",
    "        things[i] = things[i].upper()"
   ]
  },
  {
   "cell_type": "code",
   "execution_count": 23,
   "id": "e4a4b7eb-4230-4c1d-94a1-619360613280",
   "metadata": {},
   "outputs": [
    {
     "name": "stdout",
     "output_type": "stream",
     "text": [
      "['MOZZARELLA', 'Cinderella', 'salmonella']\n"
     ]
    }
   ],
   "source": [
    "print(things)"
   ]
  },
  {
   "cell_type": "code",
   "execution_count": 29,
   "id": "70aa13af-62dc-4417-a1fe-d69409d9dbea",
   "metadata": {},
   "outputs": [],
   "source": [
    "things = [element for element in things if element != \"salmonella\"]"
   ]
  },
  {
   "cell_type": "code",
   "execution_count": 17,
   "id": "5af62f4b-ea66-4f14-ad04-79268fc912c2",
   "metadata": {},
   "outputs": [
    {
     "name": "stdout",
     "output_type": "stream",
     "text": [
      "['MOZZARELLA', 'Cinderella']\n"
     ]
    }
   ],
   "source": [
    "print(things)"
   ]
  },
  {
   "cell_type": "markdown",
   "id": "1e256c23-e63d-473b-a3ef-8e847b42c90a",
   "metadata": {},
   "source": [
    "Define a function called good() that returns the following list: ['Harry', 'Ron', 'Hermione']."
   ]
  },
  {
   "cell_type": "code",
   "execution_count": 18,
   "id": "b4c18ba0-9b1c-4f46-a847-f834667deb67",
   "metadata": {},
   "outputs": [],
   "source": [
    "def good():\n",
    "    wizards = ['Harry', 'Ron', 'Hermione']\n",
    "    return wizards"
   ]
  },
  {
   "cell_type": "code",
   "execution_count": 32,
   "id": "d2825652-7903-4ac8-bad7-7fa8735b4763",
   "metadata": {},
   "outputs": [
    {
     "name": "stdout",
     "output_type": "stream",
     "text": [
      "5\n"
     ]
    }
   ],
   "source": [
    "def get_odds():\n",
    "    for number in range (1, 10, 2):\n",
    "        yield number\n",
    "\n",
    "count = 0\n",
    "for value in get_odds():\n",
    "    count += 1\n",
    "    if count == 3:\n",
    "        print(value)\n",
    "        break"
   ]
  },
  {
   "cell_type": "code",
   "execution_count": null,
   "id": "2206055d-84cb-4295-9994-d48decce75b4",
   "metadata": {},
   "outputs": [],
   "source": []
  }
 ],
 "metadata": {
  "kernelspec": {
   "display_name": "Python 3 (ipykernel)",
   "language": "python",
   "name": "python3"
  },
  "language_info": {
   "codemirror_mode": {
    "name": "ipython",
    "version": 3
   },
   "file_extension": ".py",
   "mimetype": "text/x-python",
   "name": "python",
   "nbconvert_exporter": "python",
   "pygments_lexer": "ipython3",
   "version": "3.12.0"
  }
 },
 "nbformat": 4,
 "nbformat_minor": 5
}
