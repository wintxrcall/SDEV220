{
 "cells": [
  {
   "cell_type": "code",
   "execution_count": null,
   "id": "e2bcae03-f053-4540-bfd5-18874a6a146f",
   "metadata": {},
   "outputs": [],
   "source": [
    "secret = 4\n",
    "guess = 8\n",
    "if guess < secret:\n",
    "    print(\"too low\")\n",
    "elif guess > secret:\n",
    "    print(\"too high\")\n",
    "elif guess == secret:\n",
    "    print(\"just right!\")"
   ]
  },
  {
   "cell_type": "code",
   "execution_count": 5,
   "id": "4cb69b23-1801-4f30-ab6f-50aea1984090",
   "metadata": {},
   "outputs": [],
   "source": [
    "small = True\n",
    "green = False"
   ]
  },
  {
   "cell_type": "code",
   "execution_count": 10,
   "id": "e2350014-7931-4484-bff2-f51e6db6d403",
   "metadata": {},
   "outputs": [
    {
     "name": "stdout",
     "output_type": "stream",
     "text": [
      "Cherry\n"
     ]
    }
   ],
   "source": [
    "if small:\n",
    "    if green:\n",
    "        print(\"Pea\")\n",
    "    else:\n",
    "        print(\"Cherry\")"
   ]
  },
  {
   "cell_type": "code",
   "execution_count": 11,
   "id": "592a2ee5-adc4-4f98-ab64-2286a33ab447",
   "metadata": {},
   "outputs": [],
   "source": [
    "if green:\n",
    "    if small:\n",
    "        print(\"Pea\")\n",
    "    else:\n",
    "        print(\"Watermelon\")"
   ]
  },
  {
   "cell_type": "code",
   "execution_count": 8,
   "id": "aa91896a-b4fb-4337-9244-0fb276b7ffea",
   "metadata": {},
   "outputs": [
    {
     "name": "stdout",
     "output_type": "stream",
     "text": [
      "Cherry\n"
     ]
    }
   ],
   "source": [
    "if not green:\n",
    "    if small:\n",
    "        print(\"Cherry\")\n",
    "    else:\n",
    "        print(\"Pumpkin\")\n"
   ]
  },
  {
   "cell_type": "code",
   "execution_count": 12,
   "id": "c560c2af-ce14-41ee-b54b-b35ac891130c",
   "metadata": {},
   "outputs": [],
   "source": [
    "if not small:\n",
    "    if green:\n",
    "        print(\"Watermelon\")\n",
    "    else:\n",
    "        print(\"Pumpkin\")"
   ]
  },
  {
   "cell_type": "code",
   "execution_count": 13,
   "id": "eab739fc-1d25-425c-821e-90541d7a5208",
   "metadata": {},
   "outputs": [],
   "source": [
    "Loop = [3, 2, 1, 0]"
   ]
  },
  {
   "cell_type": "code",
   "execution_count": 16,
   "id": "61c9787f-db95-4ff3-afd8-be05520fac88",
   "metadata": {},
   "outputs": [
    {
     "name": "stdout",
     "output_type": "stream",
     "text": [
      "3\n",
      "2\n",
      "1\n",
      "0\n"
     ]
    }
   ],
   "source": [
    "for number_var in Loop:\n",
    "    print(number_var)"
   ]
  },
  {
   "cell_type": "code",
   "execution_count": 28,
   "id": "b4d7e037-aa73-4c1f-9324-4e0c22cea48d",
   "metadata": {},
   "outputs": [],
   "source": [
    "guess_me = 7\n",
    "number = 1"
   ]
  },
  {
   "cell_type": "code",
   "execution_count": 33,
   "id": "365cdca9-784c-4584-b715-ecf3d1fac369",
   "metadata": {},
   "outputs": [
    {
     "name": "stdout",
     "output_type": "stream",
     "text": [
      "found it!\n"
     ]
    }
   ],
   "source": [
    "while number <= guess_me:\n",
    "    if number < guess_me:\n",
    "        print(\"too low\")\n",
    "    elif number == guess_me:\n",
    "        print(\"found it!\")\n",
    "    else:\n",
    "        number > guess_me\n",
    "        print(\"oops\")\n",
    "        break\n",
    "    number += 1"
   ]
  },
  {
   "cell_type": "code",
   "execution_count": 35,
   "id": "d439c1fb-e54f-4f89-8b4c-36e1b50756bc",
   "metadata": {},
   "outputs": [
    {
     "name": "stdout",
     "output_type": "stream",
     "text": [
      "too low\n",
      "too low\n",
      "too low\n",
      "too low\n",
      "too low\n",
      "too low\n",
      "too low\n",
      "found it!\n"
     ]
    }
   ],
   "source": [
    "guess_me2 = 5\n",
    "for number in range(10):\n",
    "    if number < guess_me:\n",
    "        print(\"too low\")\n",
    "    elif number == guess_me:\n",
    "        print(\"found it!\")\n",
    "        break\n",
    "    else:\n",
    "        number > guess_me\n",
    "        print(\"oops\")\n",
    "        break"
   ]
  },
  {
   "cell_type": "code",
   "execution_count": null,
   "id": "e22be4d6-fac3-43db-bb43-831f90f498a5",
   "metadata": {},
   "outputs": [],
   "source": []
  }
 ],
 "metadata": {
  "kernelspec": {
   "display_name": "Python 3 (ipykernel)",
   "language": "python",
   "name": "python3"
  },
  "language_info": {
   "codemirror_mode": {
    "name": "ipython",
    "version": 3
   },
   "file_extension": ".py",
   "mimetype": "text/x-python",
   "name": "python",
   "nbconvert_exporter": "python",
   "pygments_lexer": "ipython3",
   "version": "3.12.0"
  }
 },
 "nbformat": 4,
 "nbformat_minor": 5
}
